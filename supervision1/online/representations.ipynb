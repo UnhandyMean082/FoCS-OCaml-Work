{
 "cells": [
  {
   "cell_type": "markdown",
   "id": "ef11b346",
   "metadata": {},
   "source": [
    "## Representations"
   ]
  },
  {
   "cell_type": "code",
   "execution_count": 10,
   "id": "867d1557",
   "metadata": {
    "vscode": {
     "languageId": "ocaml"
    }
   },
   "outputs": [
    {
     "ename": "error",
     "evalue": "compile_error",
     "output_type": "error",
     "traceback": [
      "File \"[10]\", lines 9-11, characters 6-3:\n 9 | ......struct \n10 |  (*TODO: Answers here*)\n11 | end\nError: Signature mismatch:\n       Modules do not match:\n         sig end\n       is not included in\n         sig\n           type year\n           val make : int -> year\n           val get : year -> int\n           val is_lteq : year -> year -> bool\n           val add : year -> int -> year\n         end\n       The type `year' is required but not provided\n       File \"[10]\", line 4, characters 2-11: Expected declaration\n       The value `make' is required but not provided\n       File \"[10]\", line 5, characters 2-23: Expected declaration\n       The value `get' is required but not provided\n       File \"[10]\", line 6, characters 2-22: Expected declaration\n       The value `is_lteq' is required but not provided\n       File \"[10]\", line 7, characters 2-36: Expected declaration\n       The value `add' is required but not provided\n       File \"[10]\", line 8, characters 2-30: Expected declaration\n"
     ]
    }
   ],
   "source": [
    "(*Question 1*)\n",
    "\n",
    "module TwoDigit: sig \n",
    "  type year \n",
    "  val make: int -> year\n",
    "  val get: year -> int \n",
    "  val is_lteq : year -> year -> bool \n",
    "  val add: year -> int -> year\n",
    "end = struct \n",
    " (*TODO: Answers here*)\n",
    "end"
   ]
  },
  {
   "cell_type": "code",
   "execution_count": 11,
   "id": "d98b9541",
   "metadata": {
    "vscode": {
     "languageId": "ocaml"
    }
   },
   "outputs": [
    {
     "data": {
      "text/plain": [
       "module Dates : sig end\n"
      ]
     },
     "execution_count": 11,
     "metadata": {},
     "output_type": "execute_result"
    }
   ],
   "source": [
    "module Dates = struct\n",
    "  open TwoDigit\n",
    "  (*Write your tests here*)\n",
    "end"
   ]
  },
  {
   "cell_type": "code",
   "execution_count": null,
   "id": "78c6b04e",
   "metadata": {
    "vscode": {
     "languageId": "ocaml"
    }
   },
   "outputs": [],
   "source": [
    "(*Write a FourDigit module with the same signature as TwoDigit, then rewire your code in Test to use FourDigit rather than TwoDigit*)"
   ]
  }
 ],
 "metadata": {
  "kernelspec": {
   "display_name": "OCaml default",
   "language": "OCaml",
   "name": "ocaml-jupyter"
  },
  "language_info": {
   "codemirror_mode": "text/x-ocaml",
   "file_extension": ".ml",
   "mimetype": "text/x-ocaml",
   "name": "OCaml",
   "nbconverter_exporter": null,
   "pygments_lexer": "OCaml",
   "version": "4.14.0"
  }
 },
 "nbformat": 4,
 "nbformat_minor": 5
}
